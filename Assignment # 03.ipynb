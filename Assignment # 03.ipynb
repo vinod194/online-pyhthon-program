{
 "cells": [
  {
   "cell_type": "code",
   "execution_count": null,
   "id": "f4428769",
   "metadata": {},
   "outputs": [],
   "source": [
    "#QNo. 2 Write a Python program to get the Python version you are using"
   ]
  },
  {
   "cell_type": "code",
   "execution_count": 9,
   "id": "3323a86e",
   "metadata": {},
   "outputs": [
    {
     "name": "stdout",
     "output_type": "stream",
     "text": [
      "3.8.8 (default, Apr 13 2021, 15:08:03) [MSC v.1916 64 bit (AMD64)]\n"
     ]
    }
   ],
   "source": [
    "import sys\n",
    "print(sys.version)"
   ]
  },
  {
   "cell_type": "code",
   "execution_count": 1,
   "id": "aa072ebe",
   "metadata": {},
   "outputs": [
    {
     "name": "stdout",
     "output_type": "stream",
     "text": [
      "Current date and time : \n",
      "2021-10-24 17:02:23\n"
     ]
    }
   ],
   "source": [
    "#QNo. 3 Write a Python program to display the current date and time.\n",
    "\n",
    "import datetime\n",
    "now = datetime.datetime.now()\n",
    "print (\"Current date and time : \")\n",
    "print (now.strftime(\"%Y-%m-%d %H:%M:%S\"))\n",
    "\n"
   ]
  },
  {
   "cell_type": "code",
   "execution_count": 2,
   "id": "3a1c8eae",
   "metadata": {
    "scrolled": true
   },
   "outputs": [
    {
     "name": "stdout",
     "output_type": "stream",
     "text": [
      "Input the radius of the circle : 23.3\n",
      "The area of the circle with radius 23.3 is: 1705.5392357073626\n"
     ]
    }
   ],
   "source": [
    "#Qno. 4 Write a Python program which accepts the radius of a circle from the user and compute the area.\n",
    "\n",
    "from math import pi\n",
    "r = float(input (\"Input the radius of the circle : \"))\n",
    "print (\"The area of the circle with radius \" + str(r) + \" is: \" + str(pi * r**2))"
   ]
  },
  {
   "cell_type": "code",
   "execution_count": 3,
   "id": "0b46687f",
   "metadata": {},
   "outputs": [
    {
     "name": "stdout",
     "output_type": "stream",
     "text": [
      "Input your First Name : vinod \n",
      "Input your Last Name : kumar\n",
      "Hello  kumar vinod \n"
     ]
    }
   ],
   "source": [
    "#QNo. 5 Write a Python program which accepts the user's first and last name and print them in reverse order with a space between them.\n",
    "\n",
    "fname = input(\"Input your First Name : \")\n",
    "lname = input(\"Input your Last Name : \")\n",
    "print (\"Hello  \" + lname + \" \" + fname)"
   ]
  },
  {
   "cell_type": "code",
   "execution_count": 8,
   "id": "f818fa74",
   "metadata": {},
   "outputs": [
    {
     "name": "stdout",
     "output_type": "stream",
     "text": [
      "enter frist number20\n",
      "enter second number10\n",
      "30\n"
     ]
    }
   ],
   "source": [
    "# QNo. 6 Write a python program which takes two inputs from user and print them addition\n",
    "\n",
    "num1 = int(input(\"enter frist number\"))\n",
    "num2 = int(input(\"enter second number\"))\n",
    "\n",
    "print(num1+num2)"
   ]
  },
  {
   "cell_type": "code",
   "execution_count": 9,
   "id": "07276f65",
   "metadata": {},
   "outputs": [
    {
     "name": "stdout",
     "output_type": "stream",
     "text": [
      "enter your english number 70\n",
      "enter your Math number 67\n",
      "enter your Islamiat number 86\n",
      "enter your programming number 56\n",
      "enter your science number 71\n",
      "A\n"
     ]
    }
   ],
   "source": [
    "#QNo. 7 Write a program which takes 5 inputs from user for different subject’s marks, total it and generate mark sheet using grades ?\n",
    "\n",
    "English =int(input(\"enter your english number \"))\n",
    "Math = int(input(\"enter your Math number \"))\n",
    "Islamiat = int(input(\"enter your Islamiat number \"))\n",
    "programming = int(input(\"enter your programming number \"))\n",
    "science = int(input(\"enter your science number \"))\n",
    "\n",
    "programming\n",
    "percent = ((English+Math+Islamiat+programming+science)/5)\n",
    "if(percent < 100 and percent >= 80):\n",
    "    print(\"A+\")\n",
    "elif(percent < 80 and percent >= 70):\n",
    "    print(\"A\")\n",
    "elif(percent < 70 and percent >= 60):\n",
    "    print(\"B\")\n",
    "elif(percent < 60 and percent >= 50):\n",
    "    print(\"C\")\n",
    "elif(percent < 50 and percent >= 40):\n",
    "    print(\"D\")\n",
    "elif(percent < 40 and percent >= 30):\n",
    "  print(\"E\")\n",
    "else:\n",
    "    print(\"FAIL\")"
   ]
  },
  {
   "cell_type": "code",
   "execution_count": 10,
   "id": "c21bffa8",
   "metadata": {},
   "outputs": [
    {
     "name": "stdout",
     "output_type": "stream",
     "text": [
      "Enter a number: 23\n",
      "This is an odd number.\n"
     ]
    }
   ],
   "source": [
    "#QNo 8 Write a program which take input from user and identify that the given number is even or odd?\n",
    "\n",
    "\n",
    "num = int(input(\"Enter a number: \"))\n",
    "mod = num % 2\n",
    "if mod > 0:\n",
    "    print(\"This is an odd number.\")\n",
    "else:\n",
    "    print(\"This is an even number.\")"
   ]
  },
  {
   "cell_type": "code",
   "execution_count": 14,
   "id": "33247dc8",
   "metadata": {},
   "outputs": [
    {
     "data": {
      "text/plain": [
       "6"
      ]
     },
     "execution_count": 14,
     "metadata": {},
     "output_type": "execute_result"
    }
   ],
   "source": [
    "#QNo 9 Write a program which print the length of the list?\n",
    "\n",
    "colurs =[\"blue\",\"red\",\"green\",\"yello\",\"oringe\",\"sky\"]\n",
    "\n",
    "len(colurs)\n"
   ]
  },
  {
   "cell_type": "code",
   "execution_count": 15,
   "id": "22ce8966",
   "metadata": {},
   "outputs": [
    {
     "name": "stdout",
     "output_type": "stream",
     "text": [
      "20\n"
     ]
    }
   ],
   "source": [
    "#QNo 10 10.Write a Python program to sum all the numeric items in a list?\n",
    "\n",
    "def sum(numbers):\n",
    "    total = 0\n",
    "    for x in numbers:\n",
    "        total += x\n",
    "    return total\n",
    "print(sum((8, 2, 3, 0, 7)))\n"
   ]
  },
  {
   "cell_type": "code",
   "execution_count": 16,
   "id": "f8e40f4c",
   "metadata": {},
   "outputs": [
    {
     "name": "stdout",
     "output_type": "stream",
     "text": [
      "Largest element is: 99\n"
     ]
    }
   ],
   "source": [
    "#QNo. 11 Write a Python program to get the largest number from a numeric list.\n",
    "\n",
    "list1 = [10, 20, 4, 45, 99]\n",
    "list1.sort()\n",
    "print(\"Largest element is:\", list1[-1])\n"
   ]
  },
  {
   "cell_type": "code",
   "execution_count": 24,
   "id": "5b73a1bf",
   "metadata": {},
   "outputs": [
    {
     "name": "stdout",
     "output_type": "stream",
     "text": [
      "3\n",
      "1\n",
      "3\n"
     ]
    }
   ],
   "source": [
    "\n",
    "\n",
    "listone= [3, 2, 62, 3, 4, 8, 2, 21, 44, 25, 100]\n",
    "\n",
    "listone= [3, 1, 62, 3, 35, 8, 13, 21, 44, 25, 100]\n",
    "for element in listone:\n",
    "    if(int(element) <5):\n",
    "        print(str(element))"
   ]
  },
  {
   "cell_type": "code",
   "execution_count": null,
   "id": "41f1400a",
   "metadata": {},
   "outputs": [],
   "source": []
  }
 ],
 "metadata": {
  "kernelspec": {
   "display_name": "Python 3",
   "language": "python",
   "name": "python3"
  }
 },
 "nbformat": 4,
 "nbformat_minor": 5
}
