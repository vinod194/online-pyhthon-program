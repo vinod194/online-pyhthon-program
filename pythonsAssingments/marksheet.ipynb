{
 "cells": [
  {
   "cell_type": "code",
   "execution_count": 2,
   "id": "eb8153e0",
   "metadata": {},
   "outputs": [
    {
     "name": "stdout",
     "output_type": "stream",
     "text": [
      "enter your english number 56\n",
      "enter your Math number 74\n",
      "enter your Islamiat number 54\n",
      "B\n"
     ]
    }
   ],
   "source": [
    "English =int(input(\"enter your english number \"))\n",
    "Math = int(input(\"enter your Math number \"))\n",
    "Islamiat = int(input(\"enter your Islamiat number \"))\n",
    "percent = ((English+Math+Islamiat)/3)\n",
    "if(percent < 100 and percent >= 80):\n",
    "    print(\"A+\")\n",
    "elif(percent < 80 and percent >= 70):\n",
    "    print(\"A\")\n",
    "elif(percent < 70 and percent >= 60):\n",
    "    print(\"B\")\n",
    "elif(percent < 60 and percent >= 50):\n",
    "    print(\"C\")\n",
    "elif(percent < 50 and percent >= 40):\n",
    "    print(\"D\")\n",
    "elif(percent < 40 and percent >= 30):\n",
    "  print(\"E\")\n",
    "else:\n",
    "    print(\"FAIL\")\n",
    "    \n",
    "    "
   ]
  },
  {
   "cell_type": "code",
   "execution_count": null,
   "id": "3819dcba",
   "metadata": {},
   "outputs": [],
   "source": []
  },
  {
   "cell_type": "code",
   "execution_count": null,
   "id": "21249354",
   "metadata": {},
   "outputs": [],
   "source": []
  }
 ],
 "metadata": {
  "kernelspec": {
   "display_name": "Python 3",
   "language": "python",
   "name": "python3"
  },
  "language_info": {
   "codemirror_mode": {
    "name": "ipython",
    "version": 3
   },
   "file_extension": ".py",
   "mimetype": "text/x-python",
   "name": "python",
   "nbconvert_exporter": "python",
   "pygments_lexer": "ipython3",
   "version": "3.8.8"
  }
 },
 "nbformat": 4,
 "nbformat_minor": 5
}
